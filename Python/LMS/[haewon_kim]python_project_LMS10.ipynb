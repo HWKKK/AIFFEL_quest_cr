{
  "nbformat": 4,
  "nbformat_minor": 0,
  "metadata": {
    "colab": {
      "provenance": [],
      "authorship_tag": "ABX9TyMG8rnkYEYAuZB3HLQfoF/U",
      "include_colab_link": true
    },
    "kernelspec": {
      "name": "python3",
      "display_name": "Python 3"
    },
    "language_info": {
      "name": "python"
    }
  },
  "cells": [
    {
      "cell_type": "markdown",
      "metadata": {
        "id": "view-in-github",
        "colab_type": "text"
      },
      "source": [
        "<a href=\"https://colab.research.google.com/github/HWKKK/AIFFEL_quest_cr/blob/main/Python/LMS/%5Bhaewon_kim%5Dpython_project_LMS10.ipynb\" target=\"_parent\"><img src=\"https://colab.research.google.com/assets/colab-badge.svg\" alt=\"Open In Colab\"/></a>"
      ]
    },
    {
      "cell_type": "markdown",
      "source": [
        "# 1.  \n",
        "* 프로젝트 1번에서 평행사변형, 사다리꼴 넓이를 구하는 메서드를 직접 작성할 수 있다."
      ],
      "metadata": {
        "id": "cr4dYSLk9A82"
      }
    },
    {
      "cell_type": "code",
      "execution_count": 15,
      "metadata": {
        "colab": {
          "base_uri": "https://localhost:8080/"
        },
        "id": "NLJXnILAuKRA",
        "outputId": "a19109a5-e29c-4b45-ab0a-6cd4931f4cd5"
      },
      "outputs": [
        {
          "output_type": "stream",
          "name": "stdout",
          "text": [
            "\n",
            "===평행사변형 넓이===\n",
            "\n",
            "밑변: -2.5\n",
            "양수를 입력해주세요.\n",
            "\n",
            "밑변: 2.5\n",
            "높이: 6\n",
            "평행사변형 넓이: 15.0\n",
            "\n",
            "===사다리꼴 넓이===\n",
            "\n",
            "윗변: 0\n",
            "양수를 입력해주세요.\n",
            "\n",
            "윗변: 3\n",
            "아랫변: 4\n",
            "높이: 2\n",
            "사다리꼴 넓이: 7.0\n"
          ]
        }
      ],
      "source": [
        "class Calculator():\n",
        "\n",
        "\n",
        "  #길이 입력받기\n",
        "  def get_length(self, prompt):\n",
        "    while True:\n",
        "      try:\n",
        "        length = float(input(prompt)) #실수형까지 대응\n",
        "        if length > 0: #양수인지 판단\n",
        "          return length\n",
        "        else:\n",
        "          print(\"양수를 입력해주세요.\\n\")\n",
        "      except:\n",
        "        print('숫자가 잘못 입력되었습니다.\\n')\n",
        "\n",
        "  #평행사변형 넓이\n",
        "  def parallel(self):\n",
        "    print('\\n===평행사변형 넓이===\\n')\n",
        "    x = self.get_length(\"밑변: \")\n",
        "    y = self.get_length(\"높이: \")\n",
        "    area = x * y\n",
        "    print(f'평행사변형 넓이: {area}')\n",
        "\n",
        "  #사다리꼴 넓이\n",
        "  def trape(self):\n",
        "    print('\\n===사다리꼴 넓이===\\n')\n",
        "    x1 = self.get_length('윗변: ')\n",
        "    x2 = self.get_length('아랫변: ')\n",
        "    y = self.get_length('높이: ')\n",
        "    area = (x1 + x2) * y / 2\n",
        "    print(f'사다리꼴 넓이: {area}')\n",
        "\n",
        "\n",
        "my_cal = Calculator()\n",
        "my_cal.parallel()\n",
        "my_cal.trape()"
      ]
    },
    {
      "cell_type": "markdown",
      "source": [
        "-------\n",
        "##2.\n",
        "* 프로젝트 2번에서 Kiosk 클래스를 생성하고, 주문, 추가 주문 메서드를 적절하게 구현할 수 있다.\n",
        "* 프로젝트 2번의 지불, 주문표 작성 메서드를 적절하게 구현할 수 있다.   \n",
        "   \n",
        "\n",
        "##프로젝트 확장하기  \n",
        "* 메뉴와 가격 리스트를 다차원 리스트로 변경하기\n",
        "* 메뉴 출력 enumerate() 함수 활용하기\n",
        "* datetime 모듈로 주문표에 주문 일시 추가하기\n",
        "* 데코레이터로 주문표 양식 출력하기"
      ],
      "metadata": {
        "id": "BhOuSHkN_nmV"
      }
    },
    {
      "cell_type": "code",
      "source": [
        "from datetime import datetime\n",
        "\n",
        "class Kiosk:\n",
        "\n",
        "  def __init__(self):\n",
        "    #메뉴와 가격 리스트를 다차원 리스트로 변경하기\n",
        "    self.menu = [['아메리카노', 4500],\n",
        "            ['카페라떼', 5000],\n",
        "            ['딸기라떼', 6800],\n",
        "            ['유자레몬티', 5500],\n",
        "            ['카라멜 마끼아또', 5900],\n",
        "            ['오렌지 에이드', 5800]]\n",
        "    self.order_menu_list = []\n",
        "    self.order_menu_price = []\n",
        "    self.sum_order_menu_price = 0\n",
        "\n",
        "\n",
        "  #데코레이터\n",
        "  @staticmethod\n",
        "  def decorator(prompt):\n",
        "    def outer_decorator(func):\n",
        "        def wrapper(*args, **kwargs):\n",
        "            print('=' * 8, prompt, '=' * 8)\n",
        "            result = func(*args, **kwargs)\n",
        "            print('=' * 25, '\\n')\n",
        "            return result\n",
        "        return wrapper\n",
        "    return outer_decorator\n",
        "\n",
        "\n",
        "  # 메뉴판 입력\n",
        "  @decorator.__func__(\"메뉴판\")\n",
        "  def print_menu(self):\n",
        "    for idx, item in enumerate(self.menu, 1): #메뉴 출력 enumerate() 함수 활용하기\n",
        "      print(f'{idx}: {item[0]} {item[1]}원')\n",
        "\n",
        "\n",
        "  # 입력 함수\n",
        "  def get_number(self, prompt, value_range):\n",
        "    while True:\n",
        "      try:\n",
        "        n = input(prompt)\n",
        "        if n not in value_range:\n",
        "          raise Exception('선택 범위 내의 값을 입력해주세요.\\n')\n",
        "        else:\n",
        "          return n\n",
        "      except Exception as e:\n",
        "        print(e)\n",
        "\n",
        "\n",
        "  # 주문\n",
        "  def order(self):\n",
        "    order_more = 'y'\n",
        "    while order_more == 'y': #추가 주문이 y일 경우, 주문 반복\n",
        "\n",
        "      n = self.get_number('주문하실 메뉴의 번호를 입력해주세요: ', ['1','2','3','4','5','6'])\n",
        "      n = int(n)\n",
        "      temp = self.get_number('온도를 입력해주세요 (HOT=1, ICE=2): ', ['1','2'])\n",
        "      if temp == 1:\n",
        "        temp = 'HOT'\n",
        "      else:\n",
        "        temp = 'ICE'\n",
        "\n",
        "      print(f'주문 메뉴: {temp} {self.menu[n-1][0]} {self.menu[n-1][1]}원\\n')\n",
        "      self.order_menu_list.append(f'{temp} {self.menu[n-1][0]}')\n",
        "      self.order_menu_price.append(f'{self.menu[n-1][1]}원')\n",
        "      self.sum_order_menu_price += self.menu[n-1][1]\n",
        "\n",
        "      order_more = self.get_number('더 주문하시겠어요? (y / n) ', ['y','n'])\n",
        "      if order_more == 'n':\n",
        "        print(\"주문을 완료합니다.\\n\")\n",
        "        break\n",
        "\n",
        "\n",
        "  #주문표 출력\n",
        "  @decorator.__func__(\"주문표\")\n",
        "  def order_check(self):\n",
        "    now = datetime.now() #datetime 모듈로 주문표에 주문 일시 추가하기\n",
        "    print(f'{now.year}-{now.month}-{now.day} {now.hour}:{now.minute}') # 분까지만 출력\n",
        "    for i in range(len(self.order_menu_list)):\n",
        "      print(f'{self.order_menu_list[i]}, {self.order_menu_price[i]}')\n",
        "    print(f'총 금액: {self.sum_order_menu_price}원')\n",
        "\n",
        "\n",
        "  #지불\n",
        "  def pay(self):\n",
        "    pay_with = self.get_number('결제 방법을 선택해주세요. (현금=1, 카드=2)', ['1', '2'])\n",
        "    if pay_with == '1':\n",
        "      print('직원을 불러올게요.')\n",
        "    else:\n",
        "      print('카드를 리더기에 꽂아주세요.')\n",
        "\n",
        "\n",
        "k = Kiosk()\n",
        "k.print_menu()\n",
        "k.order()\n",
        "k.order_check()\n",
        "k.pay()"
      ],
      "metadata": {
        "colab": {
          "base_uri": "https://localhost:8080/"
        },
        "id": "R0z380XY17wO",
        "outputId": "0bf1ecca-103d-4e79-8df8-5ea89433f810"
      },
      "execution_count": 51,
      "outputs": [
        {
          "output_type": "stream",
          "name": "stdout",
          "text": [
            "======== 메뉴판 ========\n",
            "1: 아메리카노 4500원\n",
            "2: 카페라떼 5000원\n",
            "3: 딸기라떼 6800원\n",
            "4: 유자레몬티 5500원\n",
            "5: 카라멜 마끼아또 5900원\n",
            "6: 오렌지 에이드 5800원\n",
            "========================= \n",
            "\n",
            "주문하실 메뉴의 번호를 입력해주세요: 3\n",
            "온도를 입력해주세요 (HOT=1, ICE=2): 2\n",
            "주문 메뉴: ICE 딸기라떼 6800원\n",
            "\n",
            "더 주문하시겠어요? (y / n) y\n",
            "주문하실 메뉴의 번호를 입력해주세요: 6\n",
            "온도를 입력해주세요 (HOT=1, ICE=2): 1\n",
            "주문 메뉴: ICE 오렌지 에이드 5800원\n",
            "\n",
            "더 주문하시겠어요? (y / n) n\n",
            "주문을 완료합니다.\n",
            "\n",
            "======== 주문표 ========\n",
            "2025-1-16 6:10\n",
            "ICE 딸기라떼, 6800원\n",
            "ICE 오렌지 에이드, 5800원\n",
            "총 금액: 12600원\n",
            "========================= \n",
            "\n",
            "결제 방법을 선택해주세요. (현금=1, 카드=2)1\n",
            "직원을 불러올게요.\n"
          ]
        }
      ]
    }
  ]
}