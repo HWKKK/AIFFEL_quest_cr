{
  "nbformat": 4,
  "nbformat_minor": 0,
  "metadata": {
    "colab": {
      "provenance": [],
      "include_colab_link": true
    },
    "kernelspec": {
      "name": "python3",
      "display_name": "Python 3"
    },
    "language_info": {
      "name": "python"
    }
  },
  "cells": [
    {
      "cell_type": "markdown",
      "metadata": {
        "id": "view-in-github",
        "colab_type": "text"
      },
      "source": [
        "<a href=\"https://colab.research.google.com/github/HWKKK/AIFFEL_quest_cr/blob/main/Python/Py04/Quest04.ipynb\" target=\"_parent\"><img src=\"https://colab.research.google.com/assets/colab-badge.svg\" alt=\"Open In Colab\"/></a>"
      ]
    },
    {
      "cell_type": "markdown",
      "source": [
        "#회고\n",
        "\n",
        "권이삭 : 예외처리에 대해서 다시 한번 잘 복습할 기회였던 것 같습니다. 해원님의 코드가 굉장히 깔끔하시고 주석 덕분에 잘 정돈되어 있어서 한번에 알아보기 편했습니다.\n",
        "\n",
        "김해원 :이삭님께서 워낙 꼼꼼히 코딩을 하셔서 많이 배울 수 있었습니다. 특히나, get_integer 함수 내에 prompt를 인자로 받아서, input하는 num 마다 안내문을 다르게 준 것이나, operator 인풋 뒤에 strip() 을 주어 오류 예방을 철저히 한 것, 결과 print 할 때 input 받은 숫자와 operator 모두를 출력한 것 등은 굉장히 인상깊었고, 앞으로 참고하겠습니다."
      ],
      "metadata": {
        "id": "WhUV7ksHucVT"
      }
    },
    {
      "cell_type": "code",
      "execution_count": null,
      "metadata": {
        "colab": {
          "base_uri": "https://localhost:8080/"
        },
        "id": "bpux7J9Si-kH",
        "outputId": "3813c12e-b780-461e-ff10-bb3b3d78c5c5"
      },
      "outputs": [
        {
          "output_type": "stream",
          "name": "stdout",
          "text": [
            "\n",
            "=== 간단한 계산기 ===\n",
            "첫 번째 정수를 입력하세요: 59485\n",
            "두 번째 정수를 입력하세요: 948547\n",
            "연산기호를 입력하세요 (+, -, *, /, **): /\n",
            "결과: 59485 / 948547 = 0.06271170537674992\n",
            "계속 계산하시겠습니까? (y/n): ㅛ\n",
            "잘못된 버튼입니다. 'y' 또는 'n'을 입력해주세요.\n",
            "계속 계산하시겠습니까? (y/n): y\n",
            "\n",
            "=== 간단한 계산기 ===\n",
            "첫 번째 정수를 입력하세요: asdfa\n",
            "잘못된 입력입니다. 정수를 입력해주세요.\n",
            "첫 번째 정수를 입력하세요: 293842394\n",
            "두 번째 정수를 입력하세요: 91094809504935\n",
            "연산기호를 입력하세요 (+, -, *, /, **): *\n",
            "결과: 293842394 * 91094809504935 = 26767516905904055214390\n",
            "계속 계산하시겠습니까? (y/n): n\n",
            "계산기를 종료합니다.\n"
          ]
        }
      ],
      "source": [
        "import math\n",
        "\n",
        "# 정수를 입력받기\n",
        "def get_integer(prompt):\n",
        "    while True:\n",
        "        try:\n",
        "            return int(input(prompt))\n",
        "        except ValueError:\n",
        "            print(\"잘못된 입력입니다. 정수를 입력해주세요.\")\n",
        "\n",
        "# 연산자를 입력받기\n",
        "# 지원하는 연산자는 ['+', '-', '*', '/', '**']\n",
        "def get_operator():\n",
        "    valid_operators = ['+', '-', '*', '/', '**']\n",
        "    while True:\n",
        "        operator = input(\"연산기호를 입력하세요 (+, -, *, /, **): \").strip()\n",
        "        if operator in valid_operators:\n",
        "            return operator\n",
        "        else:\n",
        "            print(\"지원하지 않는 연산기호입니다. 다시 입력해주세요.\")\n",
        "\n",
        "# 계산 수행\n",
        "# 덧셈, 뺄셈, 곱셈, 나눗셈, 제곱 연산을 처리하며 나눗셈에서 0으로 나누는 경우 예외 처리\n",
        "# ZeroDivisionError가 발생하면 적절한 메시지를 출력하고 None을 반환\n",
        "# 계산 결과를 반환\n",
        "\n",
        "def calculate(a, b, operator):\n",
        "    try:\n",
        "        if operator == '+': #더하기\n",
        "            return a + b\n",
        "        elif operator == '-': #빼기\n",
        "            return a - b\n",
        "        elif operator == '*': #곱하기\n",
        "            return a * b\n",
        "        elif operator == '/': #나누기\n",
        "            if b == 0:\n",
        "                raise ZeroDivisionError(\"0으로 나눌 수 없습니다.\") #분모가 0일 때 에러 처리\n",
        "            return a / b\n",
        "        elif operator == '**': #제곱\n",
        "            return math.pow(a, b)\n",
        "    except ZeroDivisionError as e:\n",
        "        print(e)\n",
        "        return None\n",
        "\n",
        "# 메인 함수\n",
        "# 사용자로부터 정수 2개와 연산자를 입력받아 계산을 수행\n",
        "# 계산 결과를 출력하며 사용자가 계속 계산할지 여부를 확인\n",
        "# y 또는 n 이외의 입력에 대해서는 다시 입력 요청\n",
        "\n",
        "def main():\n",
        "    while True:\n",
        "        print(\"\\n=== 간단한 계산기 ===\")\n",
        "        num1 = get_integer(\"첫 번째 정수를 입력하세요: \")\n",
        "        num2 = get_integer(\"두 번째 정수를 입력하세요: \")\n",
        "        operator = get_operator()\n",
        "\n",
        "        result = calculate(num1, num2, operator)\n",
        "        if result is not None:\n",
        "            print(f\"결과: {num1} {operator} {num2} = {result}\")\n",
        "\n",
        "        while True:\n",
        "            cont = input(\"계속 계산하시겠습니까? (y/n): \").strip().lower()\n",
        "            if cont == 'y':\n",
        "                break\n",
        "            elif cont == 'n':\n",
        "                print(\"계산기를 종료합니다.\")\n",
        "                return\n",
        "            else:\n",
        "                print(\"잘못된 버튼입니다. 'y' 또는 'n'을 입력해주세요.\")\n",
        "\n",
        "if __name__ == \"__main__\":\n",
        "    main()\n"
      ]
    }
  ]
}